{
 "cells": [
  {
   "cell_type": "markdown",
   "id": "f11f8acb-4471-4af5-b647-19b4205fd089",
   "metadata": {},
   "source": [
    "# Credit Card Fraud Detection"
   ]
  },
  {
   "cell_type": "markdown",
   "id": "92971a4c-add0-4d73-883e-a9a6a4b23070",
   "metadata": {},
   "source": [
    "## Introduction\n",
    "### Credit card fraud is a significant challenge in the banking and finance industry. Fraudulent transactions can cause financial losses and security risks. The goal of this project is to build a machine learning model to detect fraudulent transactions based on past transaction data.\n",
    "\n",
    "### Problem Statement\n",
    "### The dataset contains credit card transactions labeled as **fraudulent (1)** or **legitimate (0)**. Since fraudulent transactions are rare, the dataset is highly imbalanced. The main challenges include:\n",
    "- ### Identifying fraud without too many false positives.\n",
    "- ### Handling the **imbalance in fraud cases**.\n",
    "- ### Ensuring the model is robust to new fraud patterns.\n",
    "\n",
    "### Approach\n",
    "- ### Perform **Exploratory Data Analysis (EDA)** to understand the data.\n",
    "- ### Handle class imbalance using **SMOTE (Synthetic Minority Oversampling Technique)**.\n",
    "- ### Train a **Random Forest model** and tune hyperparameters using **GridSearchCV**.\n",
    "- ### Evaluate the model using **Precision, Recall, and AUC-ROC scores**.\n"
   ]
  },
  {
   "cell_type": "markdown",
   "id": "3e95156f-a0b8-4441-abbb-8dc148644271",
   "metadata": {},
   "source": [
    "## Data Preprocessing\n",
    "Before training a machine learning model, we must check for **missing values** and understand feature distributions. Since the dataset is PCA-transformed, most features are already scaled, but we need to:\n",
    "- **Scale `Amount`** using Min-Max Scaling.\n",
    "- **Check for missing values**.\n"
   ]
  },
  {
   "cell_type": "markdown",
   "id": "c56ab219-76f7-447d-927e-30130c7370bd",
   "metadata": {},
   "source": [
    "## Step 1: Load and Explore Data"
   ]
  },
  {
   "cell_type": "code",
   "execution_count": 2,
   "id": "75b1d8e8-71b3-4720-b8e3-7a747a95d269",
   "metadata": {},
   "outputs": [],
   "source": [
    "import pandas as pd\n",
    "import numpy as np"
   ]
  },
  {
   "cell_type": "code",
   "execution_count": 3,
   "id": "61c6bc2b-7836-4859-a934-41de3058aa16",
   "metadata": {},
   "outputs": [],
   "source": [
    "data = pd.read_csv('creditcard.csv')"
   ]
  },
  {
   "cell_type": "code",
   "execution_count": 4,
   "id": "300e7079-7cb8-4e2d-97f1-9bf7df53a7bb",
   "metadata": {},
   "outputs": [
    {
     "name": "stdout",
     "output_type": "stream",
     "text": [
      "   Time        V1        V2        V3        V4        V5        V6        V7  \\\n",
      "0   0.0 -1.359807 -0.072781  2.536347  1.378155 -0.338321  0.462388  0.239599   \n",
      "1   0.0  1.191857  0.266151  0.166480  0.448154  0.060018 -0.082361 -0.078803   \n",
      "2   1.0 -1.358354 -1.340163  1.773209  0.379780 -0.503198  1.800499  0.791461   \n",
      "3   1.0 -0.966272 -0.185226  1.792993 -0.863291 -0.010309  1.247203  0.237609   \n",
      "4   2.0 -1.158233  0.877737  1.548718  0.403034 -0.407193  0.095921  0.592941   \n",
      "\n",
      "         V8        V9  ...       V21       V22       V23       V24       V25  \\\n",
      "0  0.098698  0.363787  ... -0.018307  0.277838 -0.110474  0.066928  0.128539   \n",
      "1  0.085102 -0.255425  ... -0.225775 -0.638672  0.101288 -0.339846  0.167170   \n",
      "2  0.247676 -1.514654  ...  0.247998  0.771679  0.909412 -0.689281 -0.327642   \n",
      "3  0.377436 -1.387024  ... -0.108300  0.005274 -0.190321 -1.175575  0.647376   \n",
      "4 -0.270533  0.817739  ... -0.009431  0.798278 -0.137458  0.141267 -0.206010   \n",
      "\n",
      "        V26       V27       V28  Amount  Class  \n",
      "0 -0.189115  0.133558 -0.021053  149.62      0  \n",
      "1  0.125895 -0.008983  0.014724    2.69      0  \n",
      "2 -0.139097 -0.055353 -0.059752  378.66      0  \n",
      "3 -0.221929  0.062723  0.061458  123.50      0  \n",
      "4  0.502292  0.219422  0.215153   69.99      0  \n",
      "\n",
      "[5 rows x 31 columns]\n"
     ]
    }
   ],
   "source": [
    "print(data.head())"
   ]
  },
  {
   "cell_type": "code",
   "execution_count": 5,
   "id": "f7bb8f0d-fdd7-462d-b399-305b58b0d64f",
   "metadata": {},
   "outputs": [
    {
     "name": "stdout",
     "output_type": "stream",
     "text": [
      "                Time            V1            V2            V3            V4  \\\n",
      "count  284807.000000  2.848070e+05  2.848070e+05  2.848070e+05  2.848070e+05   \n",
      "mean    94813.859575  1.168375e-15  3.416908e-16 -1.379537e-15  2.074095e-15   \n",
      "std     47488.145955  1.958696e+00  1.651309e+00  1.516255e+00  1.415869e+00   \n",
      "min         0.000000 -5.640751e+01 -7.271573e+01 -4.832559e+01 -5.683171e+00   \n",
      "25%     54201.500000 -9.203734e-01 -5.985499e-01 -8.903648e-01 -8.486401e-01   \n",
      "50%     84692.000000  1.810880e-02  6.548556e-02  1.798463e-01 -1.984653e-02   \n",
      "75%    139320.500000  1.315642e+00  8.037239e-01  1.027196e+00  7.433413e-01   \n",
      "max    172792.000000  2.454930e+00  2.205773e+01  9.382558e+00  1.687534e+01   \n",
      "\n",
      "                 V5            V6            V7            V8            V9  \\\n",
      "count  2.848070e+05  2.848070e+05  2.848070e+05  2.848070e+05  2.848070e+05   \n",
      "mean   9.604066e-16  1.487313e-15 -5.556467e-16  1.213481e-16 -2.406331e-15   \n",
      "std    1.380247e+00  1.332271e+00  1.237094e+00  1.194353e+00  1.098632e+00   \n",
      "min   -1.137433e+02 -2.616051e+01 -4.355724e+01 -7.321672e+01 -1.343407e+01   \n",
      "25%   -6.915971e-01 -7.682956e-01 -5.540759e-01 -2.086297e-01 -6.430976e-01   \n",
      "50%   -5.433583e-02 -2.741871e-01  4.010308e-02  2.235804e-02 -5.142873e-02   \n",
      "75%    6.119264e-01  3.985649e-01  5.704361e-01  3.273459e-01  5.971390e-01   \n",
      "max    3.480167e+01  7.330163e+01  1.205895e+02  2.000721e+01  1.559499e+01   \n",
      "\n",
      "       ...           V21           V22           V23           V24  \\\n",
      "count  ...  2.848070e+05  2.848070e+05  2.848070e+05  2.848070e+05   \n",
      "mean   ...  1.654067e-16 -3.568593e-16  2.578648e-16  4.473266e-15   \n",
      "std    ...  7.345240e-01  7.257016e-01  6.244603e-01  6.056471e-01   \n",
      "min    ... -3.483038e+01 -1.093314e+01 -4.480774e+01 -2.836627e+00   \n",
      "25%    ... -2.283949e-01 -5.423504e-01 -1.618463e-01 -3.545861e-01   \n",
      "50%    ... -2.945017e-02  6.781943e-03 -1.119293e-02  4.097606e-02   \n",
      "75%    ...  1.863772e-01  5.285536e-01  1.476421e-01  4.395266e-01   \n",
      "max    ...  2.720284e+01  1.050309e+01  2.252841e+01  4.584549e+00   \n",
      "\n",
      "                V25           V26           V27           V28         Amount  \\\n",
      "count  2.848070e+05  2.848070e+05  2.848070e+05  2.848070e+05  284807.000000   \n",
      "mean   5.340915e-16  1.683437e-15 -3.660091e-16 -1.227390e-16      88.349619   \n",
      "std    5.212781e-01  4.822270e-01  4.036325e-01  3.300833e-01     250.120109   \n",
      "min   -1.029540e+01 -2.604551e+00 -2.256568e+01 -1.543008e+01       0.000000   \n",
      "25%   -3.171451e-01 -3.269839e-01 -7.083953e-02 -5.295979e-02       5.600000   \n",
      "50%    1.659350e-02 -5.213911e-02  1.342146e-03  1.124383e-02      22.000000   \n",
      "75%    3.507156e-01  2.409522e-01  9.104512e-02  7.827995e-02      77.165000   \n",
      "max    7.519589e+00  3.517346e+00  3.161220e+01  3.384781e+01   25691.160000   \n",
      "\n",
      "               Class  \n",
      "count  284807.000000  \n",
      "mean        0.001727  \n",
      "std         0.041527  \n",
      "min         0.000000  \n",
      "25%         0.000000  \n",
      "50%         0.000000  \n",
      "75%         0.000000  \n",
      "max         1.000000  \n",
      "\n",
      "[8 rows x 31 columns]\n"
     ]
    }
   ],
   "source": [
    "print(data.describe())\n"
   ]
  },
  {
   "cell_type": "code",
   "execution_count": 6,
   "id": "d50ce767-92fa-491b-8e4e-70d4c3bccae2",
   "metadata": {},
   "outputs": [
    {
     "name": "stdout",
     "output_type": "stream",
     "text": [
      "Index(['Time', 'V1', 'V2', 'V3', 'V4', 'V5', 'V6', 'V7', 'V8', 'V9', 'V10',\n",
      "       'V11', 'V12', 'V13', 'V14', 'V15', 'V16', 'V17', 'V18', 'V19', 'V20',\n",
      "       'V21', 'V22', 'V23', 'V24', 'V25', 'V26', 'V27', 'V28', 'Amount',\n",
      "       'Class'],\n",
      "      dtype='object')\n"
     ]
    }
   ],
   "source": [
    "print(data.columns)\n"
   ]
  },
  {
   "cell_type": "code",
   "execution_count": 7,
   "id": "b7ad1d7d-8a5b-4a93-a552-4c853b9ec38a",
   "metadata": {},
   "outputs": [
    {
     "name": "stdout",
     "output_type": "stream",
     "text": [
      "Time      0\n",
      "V1        0\n",
      "V2        0\n",
      "V3        0\n",
      "V4        0\n",
      "V5        0\n",
      "V6        0\n",
      "V7        0\n",
      "V8        0\n",
      "V9        0\n",
      "V10       0\n",
      "V11       0\n",
      "V12       0\n",
      "V13       0\n",
      "V14       0\n",
      "V15       0\n",
      "V16       0\n",
      "V17       0\n",
      "V18       0\n",
      "V19       0\n",
      "V20       0\n",
      "V21       0\n",
      "V22       0\n",
      "V23       0\n",
      "V24       0\n",
      "V25       0\n",
      "V26       0\n",
      "V27       0\n",
      "V28       0\n",
      "Amount    0\n",
      "Class     0\n",
      "dtype: int64\n"
     ]
    }
   ],
   "source": [
    "print(data.isnull().sum())\n"
   ]
  },
  {
   "cell_type": "code",
   "execution_count": 8,
   "id": "4e06540a-6d67-4ac0-b0f9-cfd9cc796e21",
   "metadata": {},
   "outputs": [
    {
     "name": "stdout",
     "output_type": "stream",
     "text": [
      "(284807, 31)\n"
     ]
    }
   ],
   "source": [
    "print(data.shape)\n",
    "\n"
   ]
  },
  {
   "cell_type": "markdown",
   "id": "0e219cd1-41f9-4d74-9caa-6fad35ce312d",
   "metadata": {},
   "source": [
    "## Step 2: Understand Class Distribution\n"
   ]
  },
  {
   "cell_type": "code",
   "execution_count": 9,
   "id": "be629228-487e-46bc-81c4-784361284b42",
   "metadata": {},
   "outputs": [
    {
     "data": {
      "image/png": "[encoded data removed]",
      "text/plain": [
       "<Figure size 600x400 with 1 Axes>"
      ]
     },
     "metadata": {},
     "output_type": "display_data"
    }
   ],
   "source": [
    "import matplotlib.pyplot as plt\n",
    "import seaborn as sns\n",
    "\n",
    "class_counts = data['Class'].value_counts()\n",
    "plt.figure(figsize=(6, 4))\n",
    "sns.barplot(x=class_counts.index, y=class_counts.values)\n",
    "plt.title('Class Distribution')\n",
    "plt.xlabel('Class')\n",
    "plt.ylabel('Count')\n",
    "plt.show()\n"
   ]
  },
  {
   "cell_type": "code",
   "execution_count": null,
   "id": "9d7affa7-bc8b-433d-9414-69cb4c0e2138",
   "metadata": {},
   "outputs": [],
   "source": []
  },
  {
   "cell_type": "markdown",
   "id": "11d95bb5-824d-497b-8916-ef23f8d2d032",
   "metadata": {},
   "source": [
    "The bar chart indicates a heavy class imbalance, which is expected in fraud detection datasets. Most transactions are legitimate (class 0), while only a small fraction are fraudulent (class 1). This imbalance can lead to biased models if not handled properly."
   ]
  },
  {
   "cell_type": "markdown",
   "id": "3dbea7d3-7666-41b3-92be-2bb258fa73b8",
   "metadata": {},
   "source": [
    "## Key Observations\n",
    "1. The dataset has many more legitimate transactions than fraudulent ones.\n",
    "2. Fraudulent transactions need to be carefully analyzed to understand patterns and make the dataset balanced for modeling."
   ]
  },
  {
   "cell_type": "code",
   "execution_count": 10,
   "id": "8bdf1d17-9ba5-48b1-9dc9-c4f4c6f87c50",
   "metadata": {},
   "outputs": [
    {
     "data": {
      "image/png": "[encoded data removed]",
      "text/plain": [
       "<Figure size 1000x500 with 1 Axes>"
      ]
     },
     "metadata": {},
     "output_type": "display_data"
    },
    {
     "data": {
      "image/png": "[encoded data removed]",
      "text/plain": [
       "<Figure size 1000x500 with 1 Axes>"
      ]
     },
     "metadata": {},
     "output_type": "display_data"
    }
   ],
   "source": [
    "plt.figure(figsize=(10, 5))\n",
    "sns.histplot(data['Amount'], bins=50, kde=True)\n",
    "plt.title('Transaction Amount Distribution')\n",
    "plt.xlabel('Amount')\n",
    "plt.ylabel('Frequency')\n",
    "plt.show()\n",
    "\n",
    "plt.figure(figsize=(10, 5))\n",
    "sns.histplot(data['Time'], bins=50, kde=True)\n",
    "plt.title('Transaction Time Distribution')\n",
    "plt.xlabel('Time (Seconds)')\n",
    "plt.ylabel('Frequency')\n",
    "plt.show()\n"
   ]
  },
  {
   "cell_type": "markdown",
   "id": "e954dea6-d284-4f38-86f8-e9a3451782de",
   "metadata": {},
   "source": [
    "### Observations:\n",
    "- Most transactions have **low amounts**, but there are **outliers exceeding $25,000**.\n",
    "- Fraudulent transactions tend to have **smaller amounts**, possibly to avoid detection.\n",
    "- The **Time variable shows cyclical patterns**, suggesting certain periods have higher fraud activity.\n",
    "\n",
    "### Insights:\n",
    "- **Transaction Amount** could be transformed (e.g., log normalization) to handle outliers.\n",
    "- **Grouping transactions by time periods** may reveal fraud activity trends.\n",
    "\n"
   ]
  },
  {
   "cell_type": "code",
   "execution_count": 11,
   "id": "4f79d9f4-fe8c-4173-a059-3224e999fb7f",
   "metadata": {},
   "outputs": [
    {
     "data": {
      "image/png": "[encoded data removed]",
      "text/plain": [
       "<Figure size 1200x800 with 2 Axes>"
      ]
     },
     "metadata": {},
     "output_type": "display_data"
    }
   ],
   "source": [
    "corr_matrix = data.corr()\n",
    "plt.figure(figsize=(12, 8))\n",
    "sns.heatmap(corr_matrix, cmap='coolwarm', annot=False)\n",
    "plt.title('Correlation Heatmap')\n",
    "plt.show()\n"
   ]
  },
  {
   "cell_type": "markdown",
   "id": "4ea60186-21d3-498b-8938-afc3f5c74987",
   "metadata": {},
   "source": [
    "## Key Observations\n",
    "### Diagonal Line:\n",
    "\n",
    "The strong red diagonal represents perfect correlation (1.0) of each feature with itself, which is expected.\n",
    "### Weak Correlations:\n",
    "Most features show **weak correlations** with each other, which is expected since they are **PCA-transformed**.\n",
    "The **Class column (fraud vs. legitimate)** has no strong correlation with any single feature, meaning **fraud detection depends on multiple factors rather than one feature alone**.\n",
    "\n",
    "### Class Correlations:\n",
    "\n",
    "The Class column (fraudulent vs. legitimate transactions) shows weak correlations with most features, which means no single feature strongly determines fraud but rather a combination of features might.\n",
    "### Amount and Time:\n",
    "\n",
    "The Amount column has weak correlations with other features, suggesting it might be analyzed independently.\n",
    "The Time column appears to have minimal correlation with all features, indicating that it might require feature engineering (e.g., bucketing or cyclical encoding).\n"
   ]
  },
  {
   "cell_type": "code",
   "execution_count": 12,
   "id": "43b04c4a-a01c-4a58-bf85-810f1da9d831",
   "metadata": {},
   "outputs": [
    {
     "name": "stdout",
     "output_type": "stream",
     "text": [
      "Fraudulent Transactions Summary:\n",
      "                Time          V1          V2          V3          V4  \\\n",
      "count     492.000000  492.000000  492.000000  492.000000  492.000000   \n",
      "mean    80746.806911   -4.771948    3.623778   -7.033281    4.542029   \n",
      "std     47835.365138    6.783687    4.291216    7.110937    2.873318   \n",
      "min       406.000000  -30.552380   -8.402154  -31.103685   -1.313275   \n",
      "25%     41241.500000   -6.036063    1.188226   -8.643489    2.373050   \n",
      "50%     75568.500000   -2.342497    2.717869   -5.075257    4.177147   \n",
      "75%    128483.000000   -0.419200    4.971257   -2.276185    6.348729   \n",
      "max    170348.000000    2.132386   22.057729    2.250210   12.114672   \n",
      "\n",
      "               V5          V6          V7          V8          V9  ...  \\\n",
      "count  492.000000  492.000000  492.000000  492.000000  492.000000  ...   \n",
      "mean    -3.151225   -1.397737   -5.568731    0.570636   -2.581123  ...   \n",
      "std      5.372468    1.858124    7.206773    6.797831    2.500896  ...   \n",
      "min    -22.105532   -6.406267  -43.557242  -41.044261  -13.434066  ...   \n",
      "25%     -4.792835   -2.501511   -7.965295   -0.195336   -3.872383  ...   \n",
      "50%     -1.522962   -1.424616   -3.034402    0.621508   -2.208768  ...   \n",
      "75%      0.214562   -0.413216   -0.945954    1.764879   -0.787850  ...   \n",
      "max     11.095089    6.474115    5.802537   20.007208    3.353525  ...   \n",
      "\n",
      "              V21         V22         V23         V24         V25         V26  \\\n",
      "count  492.000000  492.000000  492.000000  492.000000  492.000000  492.000000   \n",
      "mean     0.713588    0.014049   -0.040308   -0.105130    0.041449    0.051648   \n",
      "std      3.869304    1.494602    1.579642    0.515577    0.797205    0.471679   \n",
      "min    -22.797604   -8.887017  -19.254328   -2.028024   -4.781606   -1.152671   \n",
      "25%      0.041787   -0.533764   -0.342175   -0.436809   -0.314348   -0.259416   \n",
      "50%      0.592146    0.048434   -0.073135   -0.060795    0.088371    0.004321   \n",
      "75%      1.244611    0.617474    0.308378    0.285328    0.456515    0.396733   \n",
      "max     27.202839    8.361985    5.466230    1.091435    2.208209    2.745261   \n",
      "\n",
      "              V27         V28       Amount  Class  \n",
      "count  492.000000  492.000000   492.000000  492.0  \n",
      "mean     0.170575    0.075667   122.211321    1.0  \n",
      "std      1.376766    0.547291   256.683288    0.0  \n",
      "min     -7.263482   -1.869290     0.000000    1.0  \n",
      "25%     -0.020025   -0.108868     1.000000    1.0  \n",
      "50%      0.394926    0.146344     9.250000    1.0  \n",
      "75%      0.826029    0.381152   105.890000    1.0  \n",
      "max      3.052358    1.779364  2125.870000    1.0  \n",
      "\n",
      "[8 rows x 31 columns]\n",
      "\n",
      "Legitimate Transactions Summary:\n",
      "                Time             V1             V2             V3  \\\n",
      "count  284315.000000  284315.000000  284315.000000  284315.000000   \n",
      "mean    94838.202258       0.008258      -0.006271       0.012171   \n",
      "std     47484.015786       1.929814       1.636146       1.459429   \n",
      "min         0.000000     -56.407510     -72.715728     -48.325589   \n",
      "25%     54230.000000      -0.917544      -0.599473      -0.884541   \n",
      "50%     84711.000000       0.020023       0.064070       0.182158   \n",
      "75%    139333.000000       1.316218       0.800446       1.028372   \n",
      "max    172792.000000       2.454930      18.902453       9.382558   \n",
      "\n",
      "                  V4             V5             V6             V7  \\\n",
      "count  284315.000000  284315.000000  284315.000000  284315.000000   \n",
      "mean       -0.007860       0.005453       0.002419       0.009637   \n",
      "std         1.399333       1.356952       1.329913       1.178812   \n",
      "min        -5.683171    -113.743307     -26.160506     -31.764946   \n",
      "25%        -0.850077      -0.689398      -0.766847      -0.551442   \n",
      "50%        -0.022405      -0.053457      -0.273123       0.041138   \n",
      "75%         0.737624       0.612181       0.399619       0.571019   \n",
      "max        16.875344      34.801666      73.301626     120.589494   \n",
      "\n",
      "                  V8             V9  ...            V21            V22  \\\n",
      "count  284315.000000  284315.000000  ...  284315.000000  284315.000000   \n",
      "mean       -0.000987       0.004467  ...      -0.001235      -0.000024   \n",
      "std         1.161283       1.089372  ...       0.716743       0.723668   \n",
      "min       -73.216718      -6.290730  ...     -34.830382     -10.933144   \n",
      "25%        -0.208633      -0.640412  ...      -0.228509      -0.542403   \n",
      "50%         0.022041      -0.049964  ...      -0.029821       0.006736   \n",
      "75%         0.326200       0.598230  ...       0.185626       0.528407   \n",
      "max        18.709255      15.594995  ...      22.614889      10.503090   \n",
      "\n",
      "                 V23            V24            V25            V26  \\\n",
      "count  284315.000000  284315.000000  284315.000000  284315.000000   \n",
      "mean        0.000070       0.000182      -0.000072      -0.000089   \n",
      "std         0.621541       0.605776       0.520673       0.482241   \n",
      "min       -44.807735      -2.836627     -10.295397      -2.604551   \n",
      "25%        -0.161702      -0.354425      -0.317145      -0.327074   \n",
      "50%        -0.011147       0.041082       0.016417      -0.052227   \n",
      "75%         0.147522       0.439869       0.350594       0.240671   \n",
      "max        22.528412       4.584549       7.519589       3.517346   \n",
      "\n",
      "                 V27            V28         Amount     Class  \n",
      "count  284315.000000  284315.000000  284315.000000  284315.0  \n",
      "mean       -0.000295      -0.000131      88.291022       0.0  \n",
      "std         0.399847       0.329570     250.105092       0.0  \n",
      "min       -22.565679     -15.430084       0.000000       0.0  \n",
      "25%        -0.070852      -0.052950       5.650000       0.0  \n",
      "50%         0.001230       0.011199      22.000000       0.0  \n",
      "75%         0.090573       0.077962      77.050000       0.0  \n",
      "max        31.612198      33.847808   25691.160000       0.0  \n",
      "\n",
      "[8 rows x 31 columns]\n"
     ]
    },
    {
     "data": {
      "image/png": "[encoded data removed]",
      "text/plain": [
       "<Figure size 800x600 with 1 Axes>"
      ]
     },
     "metadata": {},
     "output_type": "display_data"
    }
   ],
   "source": [
    "fraud = data[data['Class'] == 1]\n",
    "legitimate = data[data['Class'] == 0]\n",
    "\n",
    "print(\"Fraudulent Transactions Summary:\")\n",
    "print(fraud.describe())\n",
    "\n",
    "print(\"\\nLegitimate Transactions Summary:\")\n",
    "print(legitimate.describe())\n",
    "\n",
    "# Boxplot for Amount\n",
    "plt.figure(figsize=(8, 6))\n",
    "sns.boxplot(x='Class', y='Amount', data=data)\n",
    "plt.title('Transaction Amounts by Class')\n",
    "plt.xlabel('Class (0 = Legitimate, 1 = Fraud)')\n",
    "plt.ylabel('Transaction Amount')\n",
    "plt.show()\n"
   ]
  },
  {
   "cell_type": "markdown",
   "id": "e45c045a-2a76-4aba-8907-4d57bc0dc471",
   "metadata": {},
   "source": [
    "## Analysis of Transaction Amounts by Class\n",
    "### Observations\n",
    "* #### Legitimate Transactions (Class = 0):\n",
    "\n",
    "Most legitimate transactions have low amounts, clustering near the bottom of the range.\n",
    "There are several outliers with very high amounts (e.g., over $25,000).\n",
    "* #### Fraudulent Transactions (Class = 1):\n",
    "\n",
    "Fraudulent transactions generally involve smaller amounts compared to legitimate ones.\n",
    "The spread of transaction amounts for fraud is narrower, with fewer high-value outliers.\n",
    "* #### Comparison:\n",
    "\n",
    "Fraudulent transactions tend to avoid extremely high transaction amounts, possibly to avoid detection.\n",
    "Legitimate transactions exhibit a wider range of amounts, including very high-value outliers."
   ]
  },
  {
   "cell_type": "markdown",
   "id": "895b4774-762d-4492-92af-9e423f678f9a",
   "metadata": {},
   "source": [
    "## Handling Class Imbalance with SMOTE\n",
    "Since fraudulent transactions are rare in the dataset, machine learning models may be biased toward predicting all transactions as **legitimate**. To balance the dataset, we use **SMOTE (Synthetic Minority Oversampling Technique)**, which generates synthetic fraudulent samples to create a balanced dataset.\n"
   ]
  },
  {
   "cell_type": "code",
   "execution_count": 13,
   "id": "00732852-624a-4a7f-a7cd-35bacb0f80b4",
   "metadata": {},
   "outputs": [
    {
     "name": "stdout",
     "output_type": "stream",
     "text": [
      "Class Distribution After Resampling:\n",
      "Class\n",
      "0    284315\n",
      "1    284315\n",
      "Name: count, dtype: int64\n"
     ]
    }
   ],
   "source": [
    "from imblearn.over_sampling import SMOTE\n",
    "\n",
    "X = data.drop(columns=['Class'])\n",
    "y = data['Class']\n",
    "\n",
    "smote = SMOTE(random_state=42)\n",
    "X_resampled, y_resampled = smote.fit_resample(X, y)\n",
    "\n",
    "print(\"Class Distribution After Resampling:\")\n",
    "print(y_resampled.value_counts())\n"
   ]
  },
  {
   "cell_type": "markdown",
   "id": "32c468f0-c10c-45d0-8917-99b090820ac7",
   "metadata": {},
   "source": [
    "### Original Dataset:\n",
    "Before resampling, the dataset was highly imbalanced, with very few fraudulent transactions (Class = 1) compared to legitimate ones (Class = 0).\n",
    "### After Applying SMOTE:\n",
    "The dataset is now perfectly balanced, with an equal number of instances for both classes (284,315 each).\n",
    "SMOTE (Synthetic Minority Oversampling Technique) created synthetic samples for the minority class (Class = 1), addressing the imbalance.\n"
   ]
  },
  {
   "cell_type": "markdown",
   "id": "6df9c750-986a-423c-8c8e-73e5c5f583c3",
   "metadata": {},
   "source": [
    "### Advantages of Using SMOTE\n",
    " #### Improves Model Performance:\n",
    "   * Models trained on balanced data are less likely to be biased towards the majority class.\n",
    "#### Retains Data Distribution:\n",
    "   * SMOTE generates synthetic samples by interpolating between existing ones, preserving the feature space's characteristics."
   ]
  },
  {
   "cell_type": "markdown",
   "id": "d8d53698-593a-4cbc-8bfb-3021ef869c2f",
   "metadata": {},
   "source": [
    "### Next Steps\n",
    "#### Train-Test Split:\n",
    "\n",
    "* Split the resampled dataset into training and testing sets to evaluate model performance."
   ]
  },
  {
   "cell_type": "code",
   "execution_count": 14,
   "id": "1ea7d043-b329-4082-9229-5def5a31f841",
   "metadata": {},
   "outputs": [],
   "source": [
    "from sklearn.model_selection import train_test_split\n",
    "X_train, X_test, y_train, y_test = train_test_split(X_resampled, y_resampled, test_size=0.2, random_state=42)\n"
   ]
  },
  {
   "cell_type": "markdown",
   "id": "0f441c82-9b70-4a92-a646-7a5710af6e50",
   "metadata": {},
   "source": [
    "## Model Selection: Why Random Forest?\n",
    "Random Forest is a powerful classification algorithm that:\n",
    "- Works well with **imbalanced datasets**.\n",
    "- Handles **high-dimensional data** (like our PCA-transformed features).\n",
    "- Can be optimized using hyperparameter tuning (`GridSearchCV`).\n",
    "\n",
    "We will train a **Random Forest model**, tune hyperparameters, and evaluate its performance.\n"
   ]
  },
  {
   "cell_type": "code",
   "execution_count": 15,
   "id": "4d722a76-ca65-40f4-ad42-760b94cb997c",
   "metadata": {},
   "outputs": [
    {
     "name": "stdout",
     "output_type": "stream",
     "text": [
      "[[56739    11]\n",
      " [    0 56976]]\n",
      "              precision    recall  f1-score   support\n",
      "\n",
      "           0       1.00      1.00      1.00     56750\n",
      "           1       1.00      1.00      1.00     56976\n",
      "\n",
      "    accuracy                           1.00    113726\n",
      "   macro avg       1.00      1.00      1.00    113726\n",
      "weighted avg       1.00      1.00      1.00    113726\n",
      "\n"
     ]
    }
   ],
   "source": [
    "from sklearn.ensemble import RandomForestClassifier\n",
    "from sklearn.metrics import classification_report, confusion_matrix\n",
    "\n",
    "# Train the model\n",
    "model = RandomForestClassifier(random_state=42)\n",
    "model.fit(X_train, y_train)\n",
    "\n",
    "# Make predictions\n",
    "y_pred = model.predict(X_test)\n",
    "\n",
    "# Evaluate\n",
    "print(confusion_matrix(y_test, y_pred))\n",
    "print(classification_report(y_test, y_pred))\n"
   ]
  },
  {
   "cell_type": "markdown",
   "id": "45e7c5cc-7555-4155-a5e7-1463944b9a66",
   "metadata": {},
   "source": [
    "\n",
    "# Step 6: Model Evaluation \n",
    "Random Forest model has achieved perfect accuracy (100%), with precision, recall, and F1-scores all at 1.00. However, let's critically analyze whether this result is realistic \n",
    "\n",
    "## Observations\n",
    "* ### Confusion Matrix Analysis:\n",
    "\n",
    "True Positives (TP): 56,739 fraud cases correctly classified.\n",
    "False Negatives (FN): 11 fraud cases misclassified as legitimate.\n",
    "True Negatives (TN): 56,976 legitimate transactions correctly classified.\n",
    "False Positives (FP): 0 legitimate transactions misclassified as fraud.\n",
    "* ### Possible Issues:\n",
    "\n",
    "Overfitting: A model with 100% accuracy is rare and often suggests it has memorized the training data rather than learning generalizable patterns.\n",
    "Synthetic Data (SMOTE Impact): Since SMOTE generates synthetic data, it may have made fraud and legitimate transactions easier to separate, reducing real-world variability."
   ]
  },
  {
   "cell_type": "code",
   "execution_count": 16,
   "id": "737803fb-9059-4393-89e4-14612ddeee2e",
   "metadata": {},
   "outputs": [
    {
     "data": {
      "image/png": "[encoded data removed]",
      "text/plain": [
       "<Figure size 1200x600 with 1 Axes>"
      ]
     },
     "metadata": {},
     "output_type": "display_data"
    }
   ],
   "source": [
    "importances = model.feature_importances_\n",
    "feature_names = X_train.columns\n",
    "feature_importance_df = pd.DataFrame({'Feature': feature_names, 'Importance': importances})\n",
    "feature_importance_df = feature_importance_df.sort_values(by='Importance', ascending=False)\n",
    "\n",
    "# Plot Feature Importance\n",
    "import matplotlib.pyplot as plt\n",
    "plt.figure(figsize=(12, 6))\n",
    "plt.bar(feature_importance_df['Feature'][:10], feature_importance_df['Importance'][:10])\n",
    "plt.xticks(rotation=45)\n",
    "plt.title(\"Top 10 Important Features\")\n",
    "plt.show()\n"
   ]
  },
  {
   "cell_type": "markdown",
   "id": "f38ea6c0-e097-43f7-9d03-ade0ff3c184d",
   "metadata": {},
   "source": [
    "# Observations from Feature Importance Plot\n",
    "- The most important features in detecting fraud are:\n",
    "\n",
    "    1. V14 – Highest importance (~20% contribution). Since the dataset was PCA-transformed, feature names (e.g., V14, V10) **do not correspond to real-world transaction properties** but still hold valuable signals for fraud detection.\n",
    "\n",
    " \n",
    "       \n",
    "\n",
    "    3. V10, V12, V4, V17 – Other significant features.\n",
    "    4. V9, V2, V6 – Lower but still relevant.\n",
    "- What This Means?\n",
    "\n",
    "    1. The model relies heavily on V14 for classification.\n",
    "    2. A few other PCA-transformed features also play key roles.\n",
    "    3. Features like Amount and Time do not appear in the top 10, meaning they may have low predictive power."
   ]
  },
  {
   "cell_type": "code",
   "execution_count": 17,
   "id": "67094c9c-e591-4ed3-84fd-d0e41b8f2a48",
   "metadata": {},
   "outputs": [
    {
     "name": "stdout",
     "output_type": "stream",
     "text": [
      "Cross-Validation Scores: [0.65088019 0.99992966 0.99969224 0.99979776 0.59594991]\n",
      "Mean Accuracy: 0.8492499516381479\n"
     ]
    }
   ],
   "source": [
    "from sklearn.model_selection import cross_val_score\n",
    "\n",
    "scores = cross_val_score(model, X_resampled, y_resampled, cv=5, scoring='accuracy')\n",
    "print(\"Cross-Validation Scores:\", scores)\n",
    "print(\"Mean Accuracy:\", scores.mean())\n"
   ]
  },
  {
   "cell_type": "markdown",
   "id": "3aa9d548-a96d-4906-939f-1cbe9b87e092",
   "metadata": {},
   "source": [
    "### Observations from Cross-Validation Scores\n",
    "- ### Scores: [0.60588019, 0.99992966, 0.99969224, 0.99979776, 0.59594991]\n",
    "\n",
    "- ### Mean Accuracy: 0.8492 (~85%)\n",
    "\n",
    "- ### Key Takeaways:\n",
    "    1. ### Inconsistency Across Folds:\n",
    "\n",
    "        - #### Some folds have 99.9% accuracy, while others drop to 60%.\n",
    "        - #### This suggests data imbalance or overfitting in some folds.\n",
    "    2. ### Potential Causes of Variability:\n",
    "\n",
    "        - #### Certain cross-validation splits may contain hard-to-classify fraud cases.\n",
    "        - #### The model might be overfitting due to synthetic SMOTE data."
   ]
  },
  {
   "cell_type": "code",
   "execution_count": 18,
   "id": "80e02061-be55-4618-b19a-1495e9c8f2e9",
   "metadata": {},
   "outputs": [
    {
     "name": "stdout",
     "output_type": "stream",
     "text": [
      "Best Parameters: {'max_depth': None, 'min_samples_split': 2, 'n_estimators': 200}\n"
     ]
    }
   ],
   "source": [
    "from sklearn.model_selection import GridSearchCV\n",
    "\n",
    "param_grid = {\n",
    "    'n_estimators': [50, 100, 200],\n",
    "    'max_depth': [10, 20, None],\n",
    "    'min_samples_split': [2, 5, 10]\n",
    "}\n",
    "\n",
    "grid_search = GridSearchCV(RandomForestClassifier(random_state=42), param_grid, cv=3, scoring='accuracy')\n",
    "grid_search.fit(X_train, y_train)\n",
    "\n",
    "print(\"Best Parameters:\", grid_search.best_params_)\n",
    "best_model = grid_search.best_estimator_\n"
   ]
  },
  {
   "cell_type": "markdown",
   "id": "3d2d8945-14f0-48d2-808a-f2475a4483cf",
   "metadata": {},
   "source": [
    "# 1️⃣ Best Hyperparameters Found\n",
    "- max_depth=None → The trees are allowed to grow fully, meaning no depth restriction.\n",
    "- min_samples_split=2 → Trees will split even when there are only 2 samples, leading to more complex models.\n",
    "- n_estimators=200 → The model uses 200 trees, improving accuracy but increasing computational cost.\n",
    " ## 🔹Why is this important?\n",
    "\n",
    "- The model is more flexible (no depth limit), meaning it captures more fraud patterns.\n",
    "- However, higher complexity could lead to overfitting—we should check test performance."
   ]
  },
  {
   "cell_type": "markdown",
   "id": "bedd10fe-b4c5-42e8-9d07-e78874dcd580",
   "metadata": {},
   "source": [
    "# 2️⃣ Feature Importance Recap\n",
    "V14 remains the most significant predictor of fraud.\n",
    "V10, V12, and V4 also contribute significantly.\n",
    "Amount and Time are not in the top 10, confirming that fraud patterns are not directly related to transaction amount.\n",
    "## 🔹 What this tells us:\n",
    "\n",
    "The fraud detection logic relies on deep, hidden PCA-based features, not obvious characteristics like amount or time."
   ]
  },
  {
   "cell_type": "code",
   "execution_count": 20,
   "id": "72d9ef46-36e4-45ae-a978-728bd6798dd2",
   "metadata": {},
   "outputs": [
    {
     "data": {
      "text/html": [
       "<style>#sk-container-id-1 {\n",
       "  /* Definition of color scheme common for light and dark mode */\n",
       "  --sklearn-color-text: #000;\n",
       "  --sklearn-color-text-muted: #666;\n",
       "  --sklearn-color-line: gray;\n",
       "  /* Definition of color scheme for unfitted estimators */\n",
       "  --sklearn-color-unfitted-level-0: #fff5e6;\n",
       "  --sklearn-color-unfitted-level-1: #f6e4d2;\n",
       "  --sklearn-color-unfitted-level-2: #ffe0b3;\n",
       "  --sklearn-color-unfitted-level-3: chocolate;\n",
       "  /* Definition of color scheme for fitted estimators */\n",
       "  --sklearn-color-fitted-level-0: #f0f8ff;\n",
       "  --sklearn-color-fitted-level-1: #d4ebff;\n",
       "  --sklearn-color-fitted-level-2: #b3dbfd;\n",
       "  --sklearn-color-fitted-level-3: cornflowerblue;\n",
       "\n",
       "  /* Specific color for light theme */\n",
       "  --sklearn-color-text-on-default-background: var(--sg-text-color, var(--theme-code-foreground, var(--jp-content-font-color1, black)));\n",
       "  --sklearn-color-background: var(--sg-background-color, var(--theme-background, var(--jp-layout-color0, white)));\n",
       "  --sklearn-color-border-box: var(--sg-text-color, var(--theme-code-foreground, var(--jp-content-font-color1, black)));\n",
       "  --sklearn-color-icon: #696969;\n",
       "\n",
       "  @media (prefers-color-scheme: dark) {\n",
       "    /* Redefinition of color scheme for dark theme */\n",
       "    --sklearn-color-text-on-default-background: var(--sg-text-color, var(--theme-code-foreground, var(--jp-content-font-color1, white)));\n",
       "    --sklearn-color-background: var(--sg-background-color, var(--theme-background, var(--jp-layout-color0, #111)));\n",
       "    --sklearn-color-border-box: var(--sg-text-color, var(--theme-code-foreground, var(--jp-content-font-color1, white)));\n",
       "    --sklearn-color-icon: #878787;\n",
       "  }\n",
       "}\n",
       "\n",
       "#sk-container-id-1 {\n",
       "  color: var(--sklearn-color-text);\n",
       "}\n",
       "\n",
       "#sk-container-id-1 pre {\n",
       "  padding: 0;\n",
       "}\n",
       "\n",
       "#sk-container-id-1 input.sk-hidden--visually {\n",
       "  border: 0;\n",
       "  clip: rect(1px 1px 1px 1px);\n",
       "  clip: rect(1px, 1px, 1px, 1px);\n",
       "  height: 1px;\n",
       "  margin: -1px;\n",
       "  overflow: hidden;\n",
       "  padding: 0;\n",
       "  position: absolute;\n",
       "  width: 1px;\n",
       "}\n",
       "\n",
       "#sk-container-id-1 div.sk-dashed-wrapped {\n",
       "  border: 1px dashed var(--sklearn-color-line);\n",
       "  margin: 0 0.4em 0.5em 0.4em;\n",
       "  box-sizing: border-box;\n",
       "  padding-bottom: 0.4em;\n",
       "  background-color: var(--sklearn-color-background);\n",
       "}\n",
       "\n",
       "#sk-container-id-1 div.sk-container {\n",
       "  /* jupyter's `normalize.less` sets `[hidden] { display: none; }`\n",
       "     but bootstrap.min.css set `[hidden] { display: none !important; }`\n",
       "     so we also need the `!important` here to be able to override the\n",
       "     default hidden behavior on the sphinx rendered scikit-learn.org.\n",
       "     See: https://github.com/scikit-learn/scikit-learn/issues/21755 */\n",
       "  display: inline-block !important;\n",
       "  position: relative;\n",
       "}\n",
       "\n",
       "#sk-container-id-1 div.sk-text-repr-fallback {\n",
       "  display: none;\n",
       "}\n",
       "\n",
       "div.sk-parallel-item,\n",
       "div.sk-serial,\n",
       "div.sk-item {\n",
       "  /* draw centered vertical line to link estimators */\n",
       "  background-image: linear-gradient(var(--sklearn-color-text-on-default-background), var(--sklearn-color-text-on-default-background));\n",
       "  background-size: 2px 100%;\n",
       "  background-repeat: no-repeat;\n",
       "  background-position: center center;\n",
       "}\n",
       "\n",
       "/* Parallel-specific style estimator block */\n",
       "\n",
       "#sk-container-id-1 div.sk-parallel-item::after {\n",
       "  content: \"\";\n",
       "  width: 100%;\n",
       "  border-bottom: 2px solid var(--sklearn-color-text-on-default-background);\n",
       "  flex-grow: 1;\n",
       "}\n",
       "\n",
       "#sk-container-id-1 div.sk-parallel {\n",
       "  display: flex;\n",
       "  align-items: stretch;\n",
       "  justify-content: center;\n",
       "  background-color: var(--sklearn-color-background);\n",
       "  position: relative;\n",
       "}\n",
       "\n",
       "#sk-container-id-1 div.sk-parallel-item {\n",
       "  display: flex;\n",
       "  flex-direction: column;\n",
       "}\n",
       "\n",
       "#sk-container-id-1 div.sk-parallel-item:first-child::after {\n",
       "  align-self: flex-end;\n",
       "  width: 50%;\n",
       "}\n",
       "\n",
       "#sk-container-id-1 div.sk-parallel-item:last-child::after {\n",
       "  align-self: flex-start;\n",
       "  width: 50%;\n",
       "}\n",
       "\n",
       "#sk-container-id-1 div.sk-parallel-item:only-child::after {\n",
       "  width: 0;\n",
       "}\n",
       "\n",
       "/* Serial-specific style estimator block */\n",
       "\n",
       "#sk-container-id-1 div.sk-serial {\n",
       "  display: flex;\n",
       "  flex-direction: column;\n",
       "  align-items: center;\n",
       "  background-color: var(--sklearn-color-background);\n",
       "  padding-right: 1em;\n",
       "  padding-left: 1em;\n",
       "}\n",
       "\n",
       "\n",
       "/* Toggleable style: style used for estimator/Pipeline/ColumnTransformer box that is\n",
       "clickable and can be expanded/collapsed.\n",
       "- Pipeline and ColumnTransformer use this feature and define the default style\n",
       "- Estimators will overwrite some part of the style using the `sk-estimator` class\n",
       "*/\n",
       "\n",
       "/* Pipeline and ColumnTransformer style (default) */\n",
       "\n",
       "#sk-container-id-1 div.sk-toggleable {\n",
       "  /* Default theme specific background. It is overwritten whether we have a\n",
       "  specific estimator or a Pipeline/ColumnTransformer */\n",
       "  background-color: var(--sklearn-color-background);\n",
       "}\n",
       "\n",
       "/* Toggleable label */\n",
       "#sk-container-id-1 label.sk-toggleable__label {\n",
       "  cursor: pointer;\n",
       "  display: flex;\n",
       "  width: 100%;\n",
       "  margin-bottom: 0;\n",
       "  padding: 0.5em;\n",
       "  box-sizing: border-box;\n",
       "  text-align: center;\n",
       "  align-items: start;\n",
       "  justify-content: space-between;\n",
       "  gap: 0.5em;\n",
       "}\n",
       "\n",
       "#sk-container-id-1 label.sk-toggleable__label .caption {\n",
       "  font-size: 0.6rem;\n",
       "  font-weight: lighter;\n",
       "  color: var(--sklearn-color-text-muted);\n",
       "}\n",
       "\n",
       "#sk-container-id-1 label.sk-toggleable__label-arrow:before {\n",
       "  /* Arrow on the left of the label */\n",
       "  content: \"▸\";\n",
       "  float: left;\n",
       "  margin-right: 0.25em;\n",
       "  color: var(--sklearn-color-icon);\n",
       "}\n",
       "\n",
       "#sk-container-id-1 label.sk-toggleable__label-arrow:hover:before {\n",
       "  color: var(--sklearn-color-text);\n",
       "}\n",
       "\n",
       "/* Toggleable content - dropdown */\n",
       "\n",
       "#sk-container-id-1 div.sk-toggleable__content {\n",
       "  max-height: 0;\n",
       "  max-width: 0;\n",
       "  overflow: hidden;\n",
       "  text-align: left;\n",
       "  /* unfitted */\n",
       "  background-color: var(--sklearn-color-unfitted-level-0);\n",
       "}\n",
       "\n",
       "#sk-container-id-1 div.sk-toggleable__content.fitted {\n",
       "  /* fitted */\n",
       "  background-color: var(--sklearn-color-fitted-level-0);\n",
       "}\n",
       "\n",
       "#sk-container-id-1 div.sk-toggleable__content pre {\n",
       "  margin: 0.2em;\n",
       "  border-radius: 0.25em;\n",
       "  color: var(--sklearn-color-text);\n",
       "  /* unfitted */\n",
       "  background-color: var(--sklearn-color-unfitted-level-0);\n",
       "}\n",
       "\n",
       "#sk-container-id-1 div.sk-toggleable__content.fitted pre {\n",
       "  /* unfitted */\n",
       "  background-color: var(--sklearn-color-fitted-level-0);\n",
       "}\n",
       "\n",
       "#sk-container-id-1 input.sk-toggleable__control:checked~div.sk-toggleable__content {\n",
       "  /* Expand drop-down */\n",
       "  max-height: 200px;\n",
       "  max-width: 100%;\n",
       "  overflow: auto;\n",
       "}\n",
       "\n",
       "#sk-container-id-1 input.sk-toggleable__control:checked~label.sk-toggleable__label-arrow:before {\n",
       "  content: \"▾\";\n",
       "}\n",
       "\n",
       "/* Pipeline/ColumnTransformer-specific style */\n",
       "\n",
       "#sk-container-id-1 div.sk-label input.sk-toggleable__control:checked~label.sk-toggleable__label {\n",
       "  color: var(--sklearn-color-text);\n",
       "  background-color: var(--sklearn-color-unfitted-level-2);\n",
       "}\n",
       "\n",
       "#sk-container-id-1 div.sk-label.fitted input.sk-toggleable__control:checked~label.sk-toggleable__label {\n",
       "  background-color: var(--sklearn-color-fitted-level-2);\n",
       "}\n",
       "\n",
       "/* Estimator-specific style */\n",
       "\n",
       "/* Colorize estimator box */\n",
       "#sk-container-id-1 div.sk-estimator input.sk-toggleable__control:checked~label.sk-toggleable__label {\n",
       "  /* unfitted */\n",
       "  background-color: var(--sklearn-color-unfitted-level-2);\n",
       "}\n",
       "\n",
       "#sk-container-id-1 div.sk-estimator.fitted input.sk-toggleable__control:checked~label.sk-toggleable__label {\n",
       "  /* fitted */\n",
       "  background-color: var(--sklearn-color-fitted-level-2);\n",
       "}\n",
       "\n",
       "#sk-container-id-1 div.sk-label label.sk-toggleable__label,\n",
       "#sk-container-id-1 div.sk-label label {\n",
       "  /* The background is the default theme color */\n",
       "  color: var(--sklearn-color-text-on-default-background);\n",
       "}\n",
       "\n",
       "/* On hover, darken the color of the background */\n",
       "#sk-container-id-1 div.sk-label:hover label.sk-toggleable__label {\n",
       "  color: var(--sklearn-color-text);\n",
       "  background-color: var(--sklearn-color-unfitted-level-2);\n",
       "}\n",
       "\n",
       "/* Label box, darken color on hover, fitted */\n",
       "#sk-container-id-1 div.sk-label.fitted:hover label.sk-toggleable__label.fitted {\n",
       "  color: var(--sklearn-color-text);\n",
       "  background-color: var(--sklearn-color-fitted-level-2);\n",
       "}\n",
       "\n",
       "/* Estimator label */\n",
       "\n",
       "#sk-container-id-1 div.sk-label label {\n",
       "  font-family: monospace;\n",
       "  font-weight: bold;\n",
       "  display: inline-block;\n",
       "  line-height: 1.2em;\n",
       "}\n",
       "\n",
       "#sk-container-id-1 div.sk-label-container {\n",
       "  text-align: center;\n",
       "}\n",
       "\n",
       "/* Estimator-specific */\n",
       "#sk-container-id-1 div.sk-estimator {\n",
       "  font-family: monospace;\n",
       "  border: 1px dotted var(--sklearn-color-border-box);\n",
       "  border-radius: 0.25em;\n",
       "  box-sizing: border-box;\n",
       "  margin-bottom: 0.5em;\n",
       "  /* unfitted */\n",
       "  background-color: var(--sklearn-color-unfitted-level-0);\n",
       "}\n",
       "\n",
       "#sk-container-id-1 div.sk-estimator.fitted {\n",
       "  /* fitted */\n",
       "  background-color: var(--sklearn-color-fitted-level-0);\n",
       "}\n",
       "\n",
       "/* on hover */\n",
       "#sk-container-id-1 div.sk-estimator:hover {\n",
       "  /* unfitted */\n",
       "  background-color: var(--sklearn-color-unfitted-level-2);\n",
       "}\n",
       "\n",
       "#sk-container-id-1 div.sk-estimator.fitted:hover {\n",
       "  /* fitted */\n",
       "  background-color: var(--sklearn-color-fitted-level-2);\n",
       "}\n",
       "\n",
       "/* Specification for estimator info (e.g. \"i\" and \"?\") */\n",
       "\n",
       "/* Common style for \"i\" and \"?\" */\n",
       "\n",
       ".sk-estimator-doc-link,\n",
       "a:link.sk-estimator-doc-link,\n",
       "a:visited.sk-estimator-doc-link {\n",
       "  float: right;\n",
       "  font-size: smaller;\n",
       "  line-height: 1em;\n",
       "  font-family: monospace;\n",
       "  background-color: var(--sklearn-color-background);\n",
       "  border-radius: 1em;\n",
       "  height: 1em;\n",
       "  width: 1em;\n",
       "  text-decoration: none !important;\n",
       "  margin-left: 0.5em;\n",
       "  text-align: center;\n",
       "  /* unfitted */\n",
       "  border: var(--sklearn-color-unfitted-level-1) 1pt solid;\n",
       "  color: var(--sklearn-color-unfitted-level-1);\n",
       "}\n",
       "\n",
       ".sk-estimator-doc-link.fitted,\n",
       "a:link.sk-estimator-doc-link.fitted,\n",
       "a:visited.sk-estimator-doc-link.fitted {\n",
       "  /* fitted */\n",
       "  border: var(--sklearn-color-fitted-level-1) 1pt solid;\n",
       "  color: var(--sklearn-color-fitted-level-1);\n",
       "}\n",
       "\n",
       "/* On hover */\n",
       "div.sk-estimator:hover .sk-estimator-doc-link:hover,\n",
       ".sk-estimator-doc-link:hover,\n",
       "div.sk-label-container:hover .sk-estimator-doc-link:hover,\n",
       ".sk-estimator-doc-link:hover {\n",
       "  /* unfitted */\n",
       "  background-color: var(--sklearn-color-unfitted-level-3);\n",
       "  color: var(--sklearn-color-background);\n",
       "  text-decoration: none;\n",
       "}\n",
       "\n",
       "div.sk-estimator.fitted:hover .sk-estimator-doc-link.fitted:hover,\n",
       ".sk-estimator-doc-link.fitted:hover,\n",
       "div.sk-label-container:hover .sk-estimator-doc-link.fitted:hover,\n",
       ".sk-estimator-doc-link.fitted:hover {\n",
       "  /* fitted */\n",
       "  background-color: var(--sklearn-color-fitted-level-3);\n",
       "  color: var(--sklearn-color-background);\n",
       "  text-decoration: none;\n",
       "}\n",
       "\n",
       "/* Span, style for the box shown on hovering the info icon */\n",
       ".sk-estimator-doc-link span {\n",
       "  display: none;\n",
       "  z-index: 9999;\n",
       "  position: relative;\n",
       "  font-weight: normal;\n",
       "  right: .2ex;\n",
       "  padding: .5ex;\n",
       "  margin: .5ex;\n",
       "  width: min-content;\n",
       "  min-width: 20ex;\n",
       "  max-width: 50ex;\n",
       "  color: var(--sklearn-color-text);\n",
       "  box-shadow: 2pt 2pt 4pt #999;\n",
       "  /* unfitted */\n",
       "  background: var(--sklearn-color-unfitted-level-0);\n",
       "  border: .5pt solid var(--sklearn-color-unfitted-level-3);\n",
       "}\n",
       "\n",
       ".sk-estimator-doc-link.fitted span {\n",
       "  /* fitted */\n",
       "  background: var(--sklearn-color-fitted-level-0);\n",
       "  border: var(--sklearn-color-fitted-level-3);\n",
       "}\n",
       "\n",
       ".sk-estimator-doc-link:hover span {\n",
       "  display: block;\n",
       "}\n",
       "\n",
       "/* \"?\"-specific style due to the `<a>` HTML tag */\n",
       "\n",
       "#sk-container-id-1 a.estimator_doc_link {\n",
       "  float: right;\n",
       "  font-size: 1rem;\n",
       "  line-height: 1em;\n",
       "  font-family: monospace;\n",
       "  background-color: var(--sklearn-color-background);\n",
       "  border-radius: 1rem;\n",
       "  height: 1rem;\n",
       "  width: 1rem;\n",
       "  text-decoration: none;\n",
       "  /* unfitted */\n",
       "  color: var(--sklearn-color-unfitted-level-1);\n",
       "  border: var(--sklearn-color-unfitted-level-1) 1pt solid;\n",
       "}\n",
       "\n",
       "#sk-container-id-1 a.estimator_doc_link.fitted {\n",
       "  /* fitted */\n",
       "  border: var(--sklearn-color-fitted-level-1) 1pt solid;\n",
       "  color: var(--sklearn-color-fitted-level-1);\n",
       "}\n",
       "\n",
       "/* On hover */\n",
       "#sk-container-id-1 a.estimator_doc_link:hover {\n",
       "  /* unfitted */\n",
       "  background-color: var(--sklearn-color-unfitted-level-3);\n",
       "  color: var(--sklearn-color-background);\n",
       "  text-decoration: none;\n",
       "}\n",
       "\n",
       "#sk-container-id-1 a.estimator_doc_link.fitted:hover {\n",
       "  /* fitted */\n",
       "  background-color: var(--sklearn-color-fitted-level-3);\n",
       "}\n",
       "</style><div id=\"sk-container-id-1\" class=\"sk-top-container\"><div class=\"sk-text-repr-fallback\"><pre>RandomForestClassifier(n_estimators=200, random_state=42)</pre><b>In a Jupyter environment, please rerun this cell to show the HTML representation or trust the notebook. <br />On GitHub, the HTML representation is unable to render, please try loading this page with nbviewer.org.</b></div><div class=\"sk-container\" hidden><div class=\"sk-item\"><div class=\"sk-estimator fitted sk-toggleable\"><input class=\"sk-toggleable__control sk-hidden--visually\" id=\"sk-estimator-id-1\" type=\"checkbox\" checked><label for=\"sk-estimator-id-1\" class=\"sk-toggleable__label fitted sk-toggleable__label-arrow\"><div><div>RandomForestClassifier</div></div><div><a class=\"sk-estimator-doc-link fitted\" rel=\"noreferrer\" target=\"_blank\" href=\"https://scikit-learn.org/1.6/modules/generated/sklearn.ensemble.RandomForestClassifier.html\">?<span>Documentation for RandomForestClassifier</span></a><span class=\"sk-estimator-doc-link fitted\">i<span>Fitted</span></span></div></label><div class=\"sk-toggleable__content fitted\"><pre>RandomForestClassifier(n_estimators=200, random_state=42)</pre></div> </div></div></div></div>"
      ],
      "text/plain": [
       "RandomForestClassifier(n_estimators=200, random_state=42)"
      ]
     },
     "execution_count": 20,
     "metadata": {},
     "output_type": "execute_result"
    }
   ],
   "source": [
    "best_model = RandomForestClassifier(max_depth=None, min_samples_split=2, n_estimators=200, random_state=42)\n",
    "best_model.fit(X_train, y_train)\n"
   ]
  },
  {
   "cell_type": "code",
   "execution_count": 21,
   "id": "f4fe934c-8b58-4ee4-a265-58d9d94ea1db",
   "metadata": {},
   "outputs": [
    {
     "name": "stdout",
     "output_type": "stream",
     "text": [
      "[[56739    11]\n",
      " [    0 56976]]\n",
      "              precision    recall  f1-score   support\n",
      "\n",
      "           0       1.00      1.00      1.00     56750\n",
      "           1       1.00      1.00      1.00     56976\n",
      "\n",
      "    accuracy                           1.00    113726\n",
      "   macro avg       1.00      1.00      1.00    113726\n",
      "weighted avg       1.00      1.00      1.00    113726\n",
      "\n"
     ]
    }
   ],
   "source": [
    "from sklearn.metrics import classification_report, confusion_matrix\n",
    "\n",
    "y_pred_best = best_model.predict(X_test)\n",
    "print(confusion_matrix(y_test, y_pred_best))\n",
    "print(classification_report(y_test, y_pred_best))\n"
   ]
  },
  {
   "cell_type": "code",
   "execution_count": 22,
   "id": "f1967175-87aa-41c2-8918-c1267f303a6b",
   "metadata": {},
   "outputs": [
    {
     "name": "stdout",
     "output_type": "stream",
     "text": [
      "AUC-ROC Score: 0.9999988958949559\n"
     ]
    }
   ],
   "source": [
    "from sklearn.metrics import roc_auc_score\n",
    "\n",
    "auc_roc = roc_auc_score(y_test, best_model.predict_proba(X_test)[:,1])\n",
    "print(\"AUC-ROC Score:\", auc_roc)\n"
   ]
  },
  {
   "cell_type": "markdown",
   "id": "6d87feac-0d5c-4cb5-a3be-fbdda303aa6f",
   "metadata": {},
   "source": [
    "\n",
    "\n",
    "\n",
    "## **🚀 Final Conclusion**\n",
    "- **Best model achieved 84.9% mean accuracy**, but **high variance needs attention**.\n",
    "- **V14 is the key fraud detection feature**.\n",
    "- **Overfitting risk due to SMOTE**, real-world testing is needed.\n",
    "- **Final model should be validated on unseen data before deployment**.\n",
    "\n"
   ]
  },
  {
   "cell_type": "markdown",
   "id": "a99941fd-b04f-4aa0-b922-c045c9db92bb",
   "metadata": {},
   "source": [
    "- The **Random Forest model performed well**, achieving **high precision and recall**.\n",
    "- **Feature V14 was the most important** predictor of fraud.\n",
    "- **Handling class imbalance using SMOTE helped improve fraud detection**.\n",
    "- **Limitations**: The model may still have false positives, and real-world fraud evolves over time.\n",
    "\n",
    "### Future Improvements:\n",
    "- **Explore Deep Learning** models such as **Autoencoders or LSTMs** for anomaly detection.\n",
    "- **Reduce false positives** by testing **ensemble models (XGBoost, CatBoost)**.\n",
    "- **Deploy model as an API** to integrate real-time fraud detection.\n",
    "\n"
   ]
  },
  {
   "cell_type": "markdown",
   "id": "5ed3bff4-3d26-4fcd-9f9f-c4d33271a0b5",
   "metadata": {},
   "source": [
    "## Deployment Considerations\n",
    "In a real-world banking system, this fraud detection model could be deployed in multiple ways:\n",
    "- Integrated into a **real-time fraud monitoring system** to flag suspicious transactions.\n",
    "- Used with **streaming data platforms** like Apache Kafka to analyze transactions in real time.\n",
    "- Continuously retrained with **new fraud cases** to improve accuracy over time.\n"
   ]
  }
 ],
 "metadata": {
  "kernelspec": {
   "display_name": "Python 3 (ipykernel)",
   "language": "python",
   "name": "python3"
  },
  "language_info": {
   "codemirror_mode": {
    "name": "ipython",
    "version": 3
   },
   "file_extension": ".py",
   "mimetype": "text/x-python",
   "name": "python",
   "nbconvert_exporter": "python",
   "pygments_lexer": "ipython3",
   "version": "3.12.6"
  }
 },
 "nbformat": 4,
 "nbformat_minor": 5
}
